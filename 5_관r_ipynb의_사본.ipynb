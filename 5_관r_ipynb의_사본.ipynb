{
  "nbformat": 4,
  "nbformat_minor": 0,
  "metadata": {
    "colab": {
      "provenance": [],
      "authorship_tag": "ABX9TyO/uB6E3Cj1WBFuLrljc94y",
      "include_colab_link": true
    },
    "kernelspec": {
      "name": "python3",
      "display_name": "Python 3"
    },
    "language_info": {
      "name": "python"
    }
  },
  "cells": [
    {
      "cell_type": "markdown",
      "metadata": {
        "id": "view-in-github",
        "colab_type": "text"
      },
      "source": [
        "<a href=\"https://colab.research.google.com/github/a01038007367-pixel/-/blob/main/5_%EA%B4%80r_ipynb%EC%9D%98_%EC%82%AC%EB%B3%B8.ipynb\" target=\"_parent\"><img src=\"https://colab.research.google.com/assets/colab-badge.svg\" alt=\"Open In Colab\"/></a>"
      ]
    },
    {
      "cell_type": "code",
      "execution_count": null,
      "metadata": {
        "id": "PiCbhsPb-ilH"
      },
      "outputs": [],
      "source": [
        "import numpy as np\n",
        "import networkx as nx\n",
        "import matplotlib.pyplot as plt"
      ]
    },
    {
      "cell_type": "code",
      "source": [
        "A={1,2,3}\n",
        "B={2,3,4}\n",
        "R={(1,2),(2,3),(3,2),(3,4)}\n",
        "print(\"관계 R:\", R)"
      ],
      "metadata": {
        "colab": {
          "base_uri": "https://localhost:8080/"
        },
        "id": "NcKbwpdH-0Xq",
        "outputId": "67b652ee-a835-45f1-b4ef-6179543fad75"
      },
      "execution_count": null,
      "outputs": [
        {
          "output_type": "stream",
          "name": "stdout",
          "text": [
            "관계 R: {(2, 3), (3, 2), (1, 2), (3, 4)}\n"
          ]
        }
      ]
    },
    {
      "cell_type": "code",
      "source": [
        "A_list=sorted(A)\n",
        "B_list=sorted(B)\n",
        "\n",
        "relation_matrix=np.zeros((len(A_list), len(B_list)), dtype=int)\n",
        "\n",
        "for i,a in enumerate(A_list):\n",
        "  for j, b in enumerate(B_list):\n",
        "    if (a,b) in R:\n",
        "      relation_matrix[i,j]=1\n",
        "\n",
        "print(\"관계 행렬(rows:A, columns:B):\")\n",
        "print(relation_matrix)\n"
      ],
      "metadata": {
        "colab": {
          "base_uri": "https://localhost:8080/"
        },
        "id": "zsJEy0P4_G_D",
        "outputId": "459c2c26-089b-4541-ac88-92b62cc57bde"
      },
      "execution_count": null,
      "outputs": [
        {
          "output_type": "stream",
          "name": "stdout",
          "text": [
            "관계 행렬(rows:A, columns:B):\n",
            "[[1 0 0]\n",
            " [0 1 0]\n",
            " [1 0 1]]\n"
          ]
        }
      ]
    },
    {
      "cell_type": "code",
      "source": [
        "#R:A->B\n",
        "#S:B_>C\n",
        "C={'x','y'}\n",
        "S={(2,'x'),(3,'y'),(4,'x')}\n",
        "\n",
        "composed_relation=set()\n",
        "\n",
        "for(a,b1) in R:\n",
        "  for(b2,c) in S:\n",
        "    if b1==b2:\n",
        "      composed_relation.add((a,c))\n",
        "\n",
        "print(\"\\n합성 관계 RXS:\", composed_relation)"
      ],
      "metadata": {
        "colab": {
          "base_uri": "https://localhost:8080/"
        },
        "id": "VyuqQ6_z_7UW",
        "outputId": "a75201f5-7c24-41a2-cf1e-43f93aed0363"
      },
      "execution_count": null,
      "outputs": [
        {
          "output_type": "stream",
          "name": "stdout",
          "text": [
            "\n",
            "합성 관계 RXS: {(2, 'y'), (3, 'x'), (1, 'x')}\n"
          ]
        }
      ]
    }
  ]
}